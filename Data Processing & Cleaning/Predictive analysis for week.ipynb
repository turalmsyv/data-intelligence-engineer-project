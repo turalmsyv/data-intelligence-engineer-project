{
 "cells": [
  {
   "cell_type": "code",
   "execution_count": null,
   "metadata": {},
   "outputs": [],
   "source": [
    "import pandas as pd\n",
    "from sklearn.cluster import KMeans\n",
    "import matplotlib.pyplot as plt\n",
    "\n",
    "# Load dataset from csv file\n",
    "df = pd.read_csv('yourfile.csv')\n",
    "\n",
    "# Convert 'Order Timestamp' to datetime format\n",
    "df['Order Timestamp'] = pd.to_datetime(df['Order Timestamp'])\n",
    "\n",
    "# Extract hour from 'Order Timestamp' as a new feature\n",
    "df['Hour'] = df['Order Timestamp'].dt.hour\n",
    "\n",
    "# Use 'Total amount' and 'Hour' for clustering\n",
    "X = df[['Total amount', 'Hour']]\n",
    "\n",
    "# Specify the number of clusters (3 clusters in this case)\n",
    "kmeans = KMeans(n_clusters=3)\n",
    "\n",
    "# Fit the model to the data\n",
    "kmeans.fit(X)\n",
    "\n",
    "# Get the cluster assignments for each data point\n",
    "df['Cluster'] = kmeans.labels_\n",
    "\n",
    "# Plot the data points with different colors for each cluster\n",
    "plt.scatter(df['Hour'], df['Total amount'], c=df['Cluster'])\n",
    "plt.title('K-Means Clustering')\n",
    "plt.xlabel('Hour of the Day')\n",
    "plt.ylabel('Total Sales Amount')\n",
    "plt.show()\n"
   ]
  }
 ],
 "metadata": {
  "language_info": {
   "name": "python"
  }
 },
 "nbformat": 4,
 "nbformat_minor": 2
}
