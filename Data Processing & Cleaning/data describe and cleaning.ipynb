{
 "cells": [
  {
   "cell_type": "code",
   "execution_count": 34,
   "metadata": {},
   "outputs": [
    {
     "name": "stdout",
     "output_type": "stream",
     "text": [
      "         ID      Order Timestamp         Brand Kitchen  Total amount  \\\n",
      "0  AF5422F8  2020-01-22T19:19:00  GreenGourmet   Alpha     10.482977   \n",
      "1  33EB7E4A  2020-01-22T20:11:00  GreenGourmet   Alpha     16.859377   \n",
      "2  7A84AE24  2020-01-22T20:21:00  GreenGourmet   Alpha     28.070768   \n",
      "3  7F3EE9FE  2020-01-23T18:31:00  GreenGourmet   Alpha     36.593027   \n",
      "4  7B2C21EA  2020-01-23T19:05:00  GreenGourmet   Alpha     28.709964   \n",
      "\n",
      "               Channel  destination_lat  destination_lng Customer Name  \n",
      "0  QuickCuisineConnect              NaN              NaN     MELANIE V  \n",
      "1  QuickCuisineConnect              NaN              NaN    CAROLINA Z  \n",
      "2  QuickCuisineConnect              NaN              NaN         TIM O  \n",
      "3  QuickCuisineConnect              NaN              NaN     MELANIE J  \n",
      "4  QuickCuisineConnect              NaN              NaN         KAT D  \n"
     ]
    }
   ],
   "source": [
    "import pandas as pd\n",
    "\n",
    "# filepath\n",
    "csv_file_path = r'C:\\Users\\Admin\\Documents\\Data Intelligence Engineer project\\Task Files\\Data Intelligence Engineer - test assignment dataset - Mealco.csv'\n",
    "\n",
    "# loading data to dataframe\n",
    "data = pd.read_csv(csv_file_path)\n",
    "\n",
    "# first 5 rows\n",
    "print(data.head())"
   ]
  },
  {
   "cell_type": "code",
   "execution_count": 35,
   "metadata": {},
   "outputs": [
    {
     "name": "stdout",
     "output_type": "stream",
     "text": [
      "ID                     0\n",
      "Order Timestamp        0\n",
      "Brand                  0\n",
      "Kitchen                0\n",
      "Total amount           8\n",
      "Channel              410\n",
      "destination_lat    16793\n",
      "destination_lng    16793\n",
      "Customer Name          0\n",
      "dtype: int64\n"
     ]
    }
   ],
   "source": [
    "# checking missing values\n",
    "missing_values = data.isnull().sum()\n",
    "print(missing_values)"
   ]
  },
  {
   "cell_type": "code",
   "execution_count": 36,
   "metadata": {},
   "outputs": [
    {
     "name": "stdout",
     "output_type": "stream",
     "text": [
      "ID                  object\n",
      "Order Timestamp     object\n",
      "Brand               object\n",
      "Kitchen             object\n",
      "Total amount       float64\n",
      "Channel             object\n",
      "destination_lat    float64\n",
      "destination_lng    float64\n",
      "Customer Name       object\n",
      "dtype: object\n"
     ]
    }
   ],
   "source": [
    "# Check data types of each column\n",
    "data_types = data.dtypes\n",
    "print(data_types)"
   ]
  },
  {
   "cell_type": "code",
   "execution_count": 37,
   "metadata": {},
   "outputs": [
    {
     "name": "stdout",
     "output_type": "stream",
     "text": [
      "       Total amount  destination_lat  destination_lng\n",
      "count  44378.000000     27593.000000     27593.000000\n",
      "mean      22.865627        40.728299       -73.973492\n",
      "std       15.083798         0.104142         0.724079\n",
      "min        0.000000        37.033123      -122.234881\n",
      "25%       14.439873        40.704843       -73.984802\n",
      "50%       19.572138        40.731687       -73.957395\n",
      "75%       27.699605        40.748295       -73.941418\n",
      "max      475.827885        47.380955       -73.825891\n"
     ]
    }
   ],
   "source": [
    "# Get a basic statistical summary of the numeric fields\n",
    "statistical_summary = data.describe()\n",
    "print(statistical_summary)"
   ]
  },
  {
   "cell_type": "markdown",
   "metadata": {},
   "source": [
    "Cleaning data"
   ]
  },
  {
   "cell_type": "code",
   "execution_count": 38,
   "metadata": {},
   "outputs": [],
   "source": [
    "\n",
    "#changing order timestamp datatype to datetime for proper analysis\n",
    "data['Order Timestamp'] = pd.to_datetime(data['Order Timestamp'])\n"
   ]
  },
  {
   "cell_type": "code",
   "execution_count": 42,
   "metadata": {},
   "outputs": [
    {
     "name": "stdout",
     "output_type": "stream",
     "text": [
      "ID                     0\n",
      "Order Timestamp     2739\n",
      "Brand              44383\n",
      "Kitchen            44382\n",
      "Total amount         411\n",
      "Channel            44382\n",
      "destination_lat    16792\n",
      "destination_lng    16792\n",
      "Customer Name      29096\n",
      "dtype: int64\n"
     ]
    }
   ],
   "source": [
    "# checking duplicate values for each column\n",
    "\n",
    "duplicate_counts = data.apply(lambda x: x.duplicated().sum())\n",
    "\n",
    "# Display the number of duplicates for each column\n",
    "print(duplicate_counts)\n"
   ]
  },
  {
   "cell_type": "code",
   "execution_count": 48,
   "metadata": {},
   "outputs": [],
   "source": [
    "data.dropna(subset=['Total amount'], inplace=True)\n",
    "\n",
    "# Save the modified dataset back to a file\n",
    "data.to_csv(r'C:\\Users\\Admin\\Documents\\Data Intelligence Engineer project\\Task Files\\cleaned-dataset.csv', index=False)"
   ]
  }
 ],
 "metadata": {
  "kernelspec": {
   "display_name": "Python 3",
   "language": "python",
   "name": "python3"
  },
  "language_info": {
   "codemirror_mode": {
    "name": "ipython",
    "version": 3
   },
   "file_extension": ".py",
   "mimetype": "text/x-python",
   "name": "python",
   "nbconvert_exporter": "python",
   "pygments_lexer": "ipython3",
   "version": "3.12.1"
  }
 },
 "nbformat": 4,
 "nbformat_minor": 2
}
